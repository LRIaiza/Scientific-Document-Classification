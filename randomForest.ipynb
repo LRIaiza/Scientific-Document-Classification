{
 "cells": [
  {
   "cell_type": "code",
   "execution_count": 1,
   "metadata": {
    "ExecuteTime": {
     "end_time": "2023-05-04T08:49:21.050207900Z",
     "start_time": "2023-05-04T08:49:21.010224Z"
    }
   },
   "outputs": [
    {
     "name": "stderr",
     "output_type": "stream",
     "text": [
      "[nltk_data] Downloading package stopwords to\n",
      "[nltk_data]     /Users/mitchellkijurina/nltk_data...\n",
      "[nltk_data]   Package stopwords is already up-to-date!\n",
      "[nltk_data] Downloading package punkt to\n",
      "[nltk_data]     /Users/mitchellkijurina/nltk_data...\n",
      "[nltk_data]   Package punkt is already up-to-date!\n",
      "[nltk_data] Downloading package wordnet to\n",
      "[nltk_data]     /Users/mitchellkijurina/nltk_data...\n",
      "[nltk_data]   Package wordnet is already up-to-date!\n",
      "[nltk_data] Downloading package omw-1.4 to\n",
      "[nltk_data]     /Users/mitchellkijurina/nltk_data...\n",
      "[nltk_data]   Package omw-1.4 is already up-to-date!\n"
     ]
    },
    {
     "data": {
      "text/plain": [
       "True"
      ]
     },
     "execution_count": 1,
     "metadata": {},
     "output_type": "execute_result"
    }
   ],
   "source": [
    "import pandas as pd\n",
    "import numpy as np\n",
    "import nltk\n",
    "import pandas as pd\n",
    "import re\n",
    "import tensorflow as tf\n",
    "from nltk.corpus import stopwords\n",
    "from nltk.tokenize import word_tokenize\n",
    "from nltk.stem import WordNetLemmatizer\n",
    "from gensim.models import Word2Vec\n",
    "from sklearn.preprocessing import LabelEncoder\n",
    "from sklearn.model_selection import train_test_split\n",
    "from sklearn.svm import SVC\n",
    "from sklearn.metrics import accuracy_score\n",
    "from sklearn.ensemble import RandomForestClassifier\n",
    "from sklearn.metrics import accuracy_score, precision_score, recall_score, f1_score\n",
    "from sklearn.metrics import confusion_matrix\n",
    "import seaborn as sns\n",
    "import matplotlib.pyplot as plt\n",
    "\n",
    "nltk.download('stopwords')\n",
    "nltk.download('punkt')\n",
    "nltk.download('wordnet')\n",
    "nltk.download('omw-1.4')"
   ]
  },
  {
   "cell_type": "code",
   "execution_count": 2,
   "metadata": {
    "ExecuteTime": {
     "end_time": "2023-05-04T08:47:05.741123600Z",
     "start_time": "2023-05-04T08:47:05.517067400Z"
    }
   },
   "outputs": [],
   "source": [
    "# Load data\n",
    "df = pd.read_excel(\"Data.xlsx\")\n",
    "target = df['Orientation']\n",
    "\n",
    "# Drop unnecessary columns\n",
    "df = df.drop(['ID', 'DOI', 'PersonID', 'Orientation', 'Impact', 'Area of  research - person',\n",
    "              'Area of research - publication', 'UT', 'SOURCE YEAR', 'Doc type',\n",
    "              'Born', 'Position'], axis=1)"
   ]
  },
  {
   "cell_type": "code",
   "execution_count": 3,
   "metadata": {
    "ExecuteTime": {
     "end_time": "2023-05-04T08:47:05.757116500Z",
     "start_time": "2023-05-04T08:47:05.741123600Z"
    }
   },
   "outputs": [],
   "source": [
    "# Preprocessing function\n",
    "def preprocess_text(text):\n",
    "    # Remove special characters\n",
    "    text = re.sub('[^a-zA-Z]', ' ', text)\n",
    "    \n",
    "    # Tokenize and convert to lowercase\n",
    "    tokens = word_tokenize(text.lower())\n",
    "    \n",
    "    # Remove stopwords\n",
    "    stop_words = set(stopwords.words('english'))\n",
    "    tokens = [token for token in tokens if token not in stop_words]\n",
    "    \n",
    "    # Lemmatize tokens\n",
    "    lemmatizer = WordNetLemmatizer()\n",
    "    tokens = [lemmatizer.lemmatize(token) for token in tokens]\n",
    "    \n",
    "    return tokens\n",
    "    # return ' '.join(tokens) # Return as string for tf-idf"
   ]
  },
  {
   "cell_type": "code",
   "execution_count": 4,
   "metadata": {
    "ExecuteTime": {
     "end_time": "2023-05-04T08:47:08.648161500Z",
     "start_time": "2023-05-04T08:47:05.757116500Z"
    }
   },
   "outputs": [],
   "source": [
    "# Preprocess 'TI' and 'AB' columns\n",
    "df['processed_TI'] = df['TI'].apply(preprocess_text)\n",
    "df['processed_AB'] = df['AB'].apply(preprocess_text)\n",
    "\n"
   ]
  },
  {
   "cell_type": "code",
   "execution_count": 5,
   "metadata": {
    "ExecuteTime": {
     "end_time": "2023-05-04T08:47:09.158187Z",
     "start_time": "2023-05-04T08:47:08.848434900Z"
    }
   },
   "outputs": [],
   "source": [
    "# Train a Word2Vec model on the combined text data\n",
    "combined_text = pd.concat([df['processed_TI'], df['processed_AB']])\n",
    "w2v_model = Word2Vec(combined_text, min_count=1, vector_size=100)\n",
    "\n",
    "# Function to convert tokens to a vector using the Word2Vec model\n",
    "def tokens_to_vector(tokens):\n",
    "    vector_list = [w2v_model.wv[token] for token in tokens if token in w2v_model.wv]\n",
    "    \n",
    "    if len(vector_list) == 0:\n",
    "        return np.zeros(100)\n",
    "    \n",
    "    vector_avg = np.mean(vector_list, axis=0)\n",
    "    return vector_avg"
   ]
  },
  {
   "cell_type": "code",
   "execution_count": 6,
   "metadata": {
    "ExecuteTime": {
     "end_time": "2023-05-04T08:47:11.424626400Z",
     "start_time": "2023-05-04T08:47:11.416640400Z"
    }
   },
   "outputs": [],
   "source": [
    "# import TfidfVectorizer\n",
    "# from sklearn.feature_extraction.text import TfidfVectorizer\n",
    "#\n",
    "# # Preprocess 'TI' and 'AB' columns\n",
    "# df['processed_TI'] = df['TI'].apply(preprocess_text)\n",
    "# df['processed_AB'] = df['AB'].apply(preprocess_text)\n",
    "#\n",
    "# # Create the TF-IDF vectorizer\n",
    "# vectorizer_TI = TfidfVectorizer()\n",
    "# vectorizer_AB = TfidfVectorizer()\n",
    "#\n",
    "# # Fit and transform the vectorizer on the 'TI' and 'AB' columns\n",
    "# TI_vector  = vectorizer_TI.fit_transform(df['processed_TI'])\n",
    "# AB_vector = vectorizer_AB.fit_transform(df['processed_AB'])"
   ]
  },
  {
   "cell_type": "code",
   "execution_count": 7,
   "metadata": {
    "ExecuteTime": {
     "end_time": "2023-05-04T08:47:14.438676900Z",
     "start_time": "2023-05-04T08:47:14.316929200Z"
    }
   },
   "outputs": [],
   "source": [
    "# Convert preprocessed tokens to vectors\n",
    "df['TI_vector'] = df['processed_TI'].apply(tokens_to_vector)\n",
    "df['AB_vector'] = df['processed_AB'].apply(tokens_to_vector)\n",
    "\n",
    "# Encode the 'Gender' column using LabelEncoder\n",
    "encoder = LabelEncoder()\n",
    "df['encoded_gender'] = encoder.fit_transform(df['Gender'])"
   ]
  },
  {
   "cell_type": "code",
   "execution_count": 8,
   "metadata": {
    "ExecuteTime": {
     "end_time": "2023-05-04T08:47:15.944316Z",
     "start_time": "2023-05-04T08:47:15.928323500Z"
    }
   },
   "outputs": [],
   "source": [
    "# Split the data into training, validation, and testing sets\n",
    "X_TI = np.vstack(df['TI_vector'].values)\n",
    "X_AB = np.vstack(df['AB_vector'].values)\n",
    "X = np.hstack((X_TI, X_AB)) # Combine the two vectors\n",
    "y = target.values\n"
   ]
  },
  {
   "cell_type": "code",
   "execution_count": 9,
   "metadata": {
    "ExecuteTime": {
     "end_time": "2023-05-04T08:47:27.493863300Z",
     "start_time": "2023-05-04T08:47:27.477855600Z"
    }
   },
   "outputs": [],
   "source": [
    "X_train_val, X_test, y_train_val, y_test = train_test_split(X, y, test_size=0.15, random_state=42)\n",
    "X_train, X_val, y_train, y_val = train_test_split(X_train_val, y_train_val, test_size=0.1765, random_state=42)"
   ]
  },
  {
   "cell_type": "code",
   "execution_count": 10,
   "metadata": {
    "ExecuteTime": {
     "end_time": "2023-05-04T08:47:48.084524100Z",
     "start_time": "2023-05-04T08:47:46.409304900Z"
    }
   },
   "outputs": [
    {
     "data": {
      "text/html": [
       "<style>#sk-container-id-1 {color: black;background-color: white;}#sk-container-id-1 pre{padding: 0;}#sk-container-id-1 div.sk-toggleable {background-color: white;}#sk-container-id-1 label.sk-toggleable__label {cursor: pointer;display: block;width: 100%;margin-bottom: 0;padding: 0.3em;box-sizing: border-box;text-align: center;}#sk-container-id-1 label.sk-toggleable__label-arrow:before {content: \"▸\";float: left;margin-right: 0.25em;color: #696969;}#sk-container-id-1 label.sk-toggleable__label-arrow:hover:before {color: black;}#sk-container-id-1 div.sk-estimator:hover label.sk-toggleable__label-arrow:before {color: black;}#sk-container-id-1 div.sk-toggleable__content {max-height: 0;max-width: 0;overflow: hidden;text-align: left;background-color: #f0f8ff;}#sk-container-id-1 div.sk-toggleable__content pre {margin: 0.2em;color: black;border-radius: 0.25em;background-color: #f0f8ff;}#sk-container-id-1 input.sk-toggleable__control:checked~div.sk-toggleable__content {max-height: 200px;max-width: 100%;overflow: auto;}#sk-container-id-1 input.sk-toggleable__control:checked~label.sk-toggleable__label-arrow:before {content: \"▾\";}#sk-container-id-1 div.sk-estimator input.sk-toggleable__control:checked~label.sk-toggleable__label {background-color: #d4ebff;}#sk-container-id-1 div.sk-label input.sk-toggleable__control:checked~label.sk-toggleable__label {background-color: #d4ebff;}#sk-container-id-1 input.sk-hidden--visually {border: 0;clip: rect(1px 1px 1px 1px);clip: rect(1px, 1px, 1px, 1px);height: 1px;margin: -1px;overflow: hidden;padding: 0;position: absolute;width: 1px;}#sk-container-id-1 div.sk-estimator {font-family: monospace;background-color: #f0f8ff;border: 1px dotted black;border-radius: 0.25em;box-sizing: border-box;margin-bottom: 0.5em;}#sk-container-id-1 div.sk-estimator:hover {background-color: #d4ebff;}#sk-container-id-1 div.sk-parallel-item::after {content: \"\";width: 100%;border-bottom: 1px solid gray;flex-grow: 1;}#sk-container-id-1 div.sk-label:hover label.sk-toggleable__label {background-color: #d4ebff;}#sk-container-id-1 div.sk-serial::before {content: \"\";position: absolute;border-left: 1px solid gray;box-sizing: border-box;top: 0;bottom: 0;left: 50%;z-index: 0;}#sk-container-id-1 div.sk-serial {display: flex;flex-direction: column;align-items: center;background-color: white;padding-right: 0.2em;padding-left: 0.2em;position: relative;}#sk-container-id-1 div.sk-item {position: relative;z-index: 1;}#sk-container-id-1 div.sk-parallel {display: flex;align-items: stretch;justify-content: center;background-color: white;position: relative;}#sk-container-id-1 div.sk-item::before, #sk-container-id-1 div.sk-parallel-item::before {content: \"\";position: absolute;border-left: 1px solid gray;box-sizing: border-box;top: 0;bottom: 0;left: 50%;z-index: -1;}#sk-container-id-1 div.sk-parallel-item {display: flex;flex-direction: column;z-index: 1;position: relative;background-color: white;}#sk-container-id-1 div.sk-parallel-item:first-child::after {align-self: flex-end;width: 50%;}#sk-container-id-1 div.sk-parallel-item:last-child::after {align-self: flex-start;width: 50%;}#sk-container-id-1 div.sk-parallel-item:only-child::after {width: 0;}#sk-container-id-1 div.sk-dashed-wrapped {border: 1px dashed gray;margin: 0 0.4em 0.5em 0.4em;box-sizing: border-box;padding-bottom: 0.4em;background-color: white;}#sk-container-id-1 div.sk-label label {font-family: monospace;font-weight: bold;display: inline-block;line-height: 1.2em;}#sk-container-id-1 div.sk-label-container {text-align: center;}#sk-container-id-1 div.sk-container {/* jupyter's `normalize.less` sets `[hidden] { display: none; }` but bootstrap.min.css set `[hidden] { display: none !important; }` so we also need the `!important` here to be able to override the default hidden behavior on the sphinx rendered scikit-learn.org. See: https://github.com/scikit-learn/scikit-learn/issues/21755 */display: inline-block !important;position: relative;}#sk-container-id-1 div.sk-text-repr-fallback {display: none;}</style><div id=\"sk-container-id-1\" class=\"sk-top-container\"><div class=\"sk-text-repr-fallback\"><pre>RandomForestClassifier(max_depth=3, min_samples_leaf=2, n_estimators=1000,\n",
       "                       n_jobs=-1, random_state=42)</pre><b>In a Jupyter environment, please rerun this cell to show the HTML representation or trust the notebook. <br />On GitHub, the HTML representation is unable to render, please try loading this page with nbviewer.org.</b></div><div class=\"sk-container\" hidden><div class=\"sk-item\"><div class=\"sk-estimator sk-toggleable\"><input class=\"sk-toggleable__control sk-hidden--visually\" id=\"sk-estimator-id-1\" type=\"checkbox\" checked><label for=\"sk-estimator-id-1\" class=\"sk-toggleable__label sk-toggleable__label-arrow\">RandomForestClassifier</label><div class=\"sk-toggleable__content\"><pre>RandomForestClassifier(max_depth=3, min_samples_leaf=2, n_estimators=1000,\n",
       "                       n_jobs=-1, random_state=42)</pre></div></div></div></div></div>"
      ],
      "text/plain": [
       "RandomForestClassifier(max_depth=3, min_samples_leaf=2, n_estimators=1000,\n",
       "                       n_jobs=-1, random_state=42)"
      ]
     },
     "execution_count": 10,
     "metadata": {},
     "output_type": "execute_result"
    }
   ],
   "source": [
    "# Create the Random Forest classifier\n",
    "rf_classifier = RandomForestClassifier(n_estimators=1000, max_depth=3,\n",
    "random_state=42, min_samples_leaf=2, n_jobs=-1)\n",
    "\n",
    "# Train the Random Forest classifier on 'TI_vector'\n",
    "rf_classifier.fit(X_train, y_train)\n"
   ]
  },
  {
   "cell_type": "code",
   "execution_count": 11,
   "metadata": {
    "ExecuteTime": {
     "end_time": "2023-05-04T08:47:51.765490800Z",
     "start_time": "2023-05-04T08:47:49.763356100Z"
    }
   },
   "outputs": [
    {
     "name": "stdout",
     "output_type": "stream",
     "text": [
      "Validation accuracy for the Random Forest model using word2vec on 'TI_vector': 0.4692737430167598\n"
     ]
    }
   ],
   "source": [
    "# Validate the classifier \n",
    "y_val_pred = rf_classifier.predict(X_val)\n",
    "accuracy_TI_val = accuracy_score(y_val, y_val_pred)\n",
    "print(\"Validation accuracy for the Random Forest model using word2vec on 'TI_vector':\", accuracy_TI_val)\n"
   ]
  },
  {
   "cell_type": "code",
   "execution_count": 12,
   "metadata": {
    "ExecuteTime": {
     "end_time": "2023-05-04T08:48:07.240606900Z",
     "start_time": "2023-05-04T08:48:07.224561Z"
    }
   },
   "outputs": [
    {
     "name": "stdout",
     "output_type": "stream",
     "text": [
      "Test accuracy for the RF model using word2vec on combined 'TI_vector' and 'AB_vector': 0.5195530726256983\n"
     ]
    }
   ],
   "source": [
    "# Test the classifier on the test set\n",
    "y_test_pred = rf_classifier.predict(X_test)\n",
    "accuracy_test = accuracy_score(y_test, y_test_pred)\n",
    "print(\"Test accuracy for the RF model using word2vec on combined 'TI_vector' and 'AB_vector':\", accuracy_test)"
   ]
  },
  {
   "cell_type": "code",
   "execution_count": 13,
   "metadata": {
    "ExecuteTime": {
     "end_time": "2023-05-04T09:07:17.487568800Z",
     "start_time": "2023-05-04T09:07:17.357421400Z"
    },
    "collapsed": false
   },
   "outputs": [
    {
     "data": {
      "image/png": "[encoded data removed]",
      "text/plain": [
       "<Figure size 1000x700 with 1 Axes>"
      ]
     },
     "metadata": {},
     "output_type": "display_data"
    }
   ],
   "source": [
    "# Compute confusion matrix\n",
    "conf_mat = confusion_matrix(y_test, y_test_pred)\n",
    "\n",
    "# Create confusion matrix plot using Seaborn\n",
    "plt.figure(figsize=(10, 7))\n",
    "sns.heatmap(conf_mat, annot=True, fmt='d', cmap='Blues', cbar=False, xticklabels=['Label 1', 'Label 2', 'Label 3'], yticklabels=['Label 1', 'Label 2', 'Label 3'])\n",
    "plt.xlabel('Predicted Label')\n",
    "plt.ylabel('True Label')\n",
    "plt.title('Confusion Matrix')\n",
    "plt.show()"
   ]
  },
  {
   "cell_type": "code",
   "execution_count": 14,
   "metadata": {
    "ExecuteTime": {
     "end_time": "2023-05-04T09:08:56.227171900Z",
     "start_time": "2023-05-04T09:08:56.195126200Z"
    },
    "collapsed": false
   },
   "outputs": [
    {
     "name": "stdout",
     "output_type": "stream",
     "text": [
      "Test set Accuracy: 0.5195530726256983\n",
      "Test set Precision: 0.5768001578220557\n",
      "Test set Recall: 0.45114877589453867\n",
      "Test set F1 Score: 0.4142138364779875\n"
     ]
    }
   ],
   "source": [
    "# Calculate precision, recall and F1 score\n",
    "precision = precision_score(y_test, y_test_pred, average='macro')\n",
    "recall = recall_score(y_test, y_test_pred, average='macro')\n",
    "f1 = f1_score(y_test, y_test_pred, average='macro')\n",
    "\n",
    "print(\"Test set Accuracy:\", accuracy_test)\n",
    "print(\"Test set Precision:\", precision)\n",
    "print(\"Test set Recall:\", recall)\n",
    "print(\"Test set F1 Score:\", f1)"
   ]
  },
  {
   "attachments": {},
   "cell_type": "markdown",
   "metadata": {},
   "source": [
    "Testing with the following params for pre-processing (60% training, 20% valid, 20% test)\n",
    "rf_classifier = RandomForestClassifier(n_estimators=1000, max_depth=3,\n",
    "random_state=42, min_samples_leaf=2, n_jobs=-1)\n",
    "\n",
    "Word2Vec Test Accuracy\n",
    "\n",
    "Stop word included\n",
    "0.4301675977653631\n",
    "\n",
    "Stop words removed \n",
    "0.46368715083798884\n",
    "\n",
    "For future stop words removed \n",
    "\n",
    "Tf-IDF (haven't re-run for results using new train/test slit)\n",
    "0.4225941422594142 performed significantly lower than with word2vec"
   ]
  },
  {
   "cell_type": "code",
   "execution_count": 15,
   "metadata": {},
   "outputs": [
    {
     "name": "stdout",
     "output_type": "stream",
     "text": [
      "Training accuracy for the RF model: 0.5305389221556887\n"
     ]
    }
   ],
   "source": [
    "# Check accuracy of training set\n",
    "y_train_pred = rf_classifier.predict(X_train)\n",
    "accuracy_train = accuracy_score(y_train, y_train_pred)\n",
    "print(\"Training accuracy for the RF model:\", accuracy_train)"
   ]
  },
  {
   "cell_type": "code",
   "execution_count": null,
   "metadata": {},
   "outputs": [],
   "source": []
  }
 ],
 "metadata": {
  "kernelspec": {
   "display_name": "tensorflow",
   "language": "python",
   "name": "python3"
  },
  "language_info": {
   "codemirror_mode": {
    "name": "ipython",
    "version": 3
   },
   "file_extension": ".py",
   "mimetype": "text/x-python",
   "name": "python",
   "nbconvert_exporter": "python",
   "pygments_lexer": "ipython3",
   "version": "3.9.13"
  },
  "orig_nbformat": 4
 },
 "nbformat": 4,
 "nbformat_minor": 2
}
