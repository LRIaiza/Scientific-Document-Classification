{
 "cells": [
  {
   "cell_type": "code",
   "execution_count": 1,
   "metadata": {},
   "outputs": [],
   "source": [
    "import pandas as pd\n",
    "import numpy as np\n",
    "import nltk\n",
    "import pandas as pd\n",
    "import re\n",
    "import tensorflow as tf\n",
    "from nltk.corpus import stopwords\n",
    "from nltk.tokenize import word_tokenize\n",
    "from nltk.stem import WordNetLemmatizer\n",
    "from gensim.models import Word2Vec\n",
    "from sklearn.preprocessing import LabelEncoder\n",
    "from sklearn.model_selection import train_test_split\n",
    "from sklearn.svm import SVC\n",
    "from sklearn.metrics import accuracy_score\n",
    "from sklearn.ensemble import RandomForestClassifier\n",
    "from sklearn.metrics import accuracy_score, precision_score, recall_score, f1_score\n",
    "from sklearn.metrics import confusion_matrix\n",
    "import seaborn as sns\n",
    "import matplotlib.pyplot as plt"
   ]
  },
  {
   "cell_type": "code",
   "execution_count": 2,
   "metadata": {},
   "outputs": [],
   "source": [
    "# Load data\n",
    "df = pd.read_excel(\"Data.xlsx\")\n",
    "Y = df['Orientation']\n",
    "X = df['TI'] + ' ' + df['AB']"
   ]
  },
  {
   "cell_type": "code",
   "execution_count": 3,
   "metadata": {},
   "outputs": [],
   "source": [
    "X_train, X_temp, y_train, y_temp = train_test_split(X, Y, test_size=0.3, random_state=42)\n",
    "X_val, X_test, y_val, y_test = train_test_split(X_temp, y_temp, test_size=0.5, random_state=42)"
   ]
  },
  {
   "cell_type": "code",
   "execution_count": 4,
   "metadata": {},
   "outputs": [
    {
     "name": "stdout",
     "output_type": "stream",
     "text": [
      "(835,)\n",
      "(179,)\n",
      "(179,)\n"
     ]
    }
   ],
   "source": [
    "print(np.shape(X_train))\n",
    "print(np.shape(X_val))\n",
    "print(np.shape(X_test))"
   ]
  },
  {
   "cell_type": "code",
   "execution_count": 5,
   "metadata": {},
   "outputs": [],
   "source": [
    "from keras.preprocessing.text import Tokenizer\n",
    "## Tokenize the sentences\n",
    "tokenizer = Tokenizer(num_words=8000 )\n",
    "tokenizer.fit_on_texts(list(X_train)+list(X_test)+list(X_val))\n",
    "X_train = tokenizer.texts_to_sequences(X_train)\n",
    "X_test = tokenizer.texts_to_sequences(X_test)\n",
    "X_val = tokenizer.texts_to_sequences(X_val)"
   ]
  },
  {
   "cell_type": "code",
   "execution_count": 6,
   "metadata": {},
   "outputs": [],
   "source": [
    "vocab_size = len(tokenizer.word_index) + 1 "
   ]
  },
  {
   "cell_type": "code",
   "execution_count": 7,
   "metadata": {},
   "outputs": [
    {
     "name": "stdout",
     "output_type": "stream",
     "text": [
      "Disability, anxiety and depression in patients with medication-overuse headache in primary care - the BIMOH study Background and purpose: Medication-overuse headache (MOH) is common in the general population. Detoxification is the general treatment principle for MOH. The present paper is based on a study of a brief intervention (BI) for MOH in primary care. New data \n",
      "[292, 2148, 353, 2, 673, 3, 2626, 631, 3, 35, 231, 4, 98, 9, 790, 204, 3, 25, 3415, 292, 353, 2, 673, 3, 5077, 631, 1048, 3, 1, 865, 119, 2, 375, 735, 3, 579, 231, 7, 134, 8, 1003, 1526, 151, 3, 8, 438, 5078, 1041, 5079, 8, 785]\n"
     ]
    }
   ],
   "source": [
    "print(X[100])\n",
    "print(X_train[100])"
   ]
  },
  {
   "cell_type": "code",
   "execution_count": 8,
   "metadata": {},
   "outputs": [],
   "source": [
    "X_train = tf.keras.utils.pad_sequences(X_train, padding='post', maxlen=100)\n",
    "X_test = tf.keras.utils.pad_sequences(X_test, padding='post', maxlen=100)\n",
    "X_val = tf.keras.utils.pad_sequences(X_val, padding='post', maxlen=100)"
   ]
  },
  {
   "cell_type": "code",
   "execution_count": 9,
   "metadata": {},
   "outputs": [
    {
     "name": "stdout",
     "output_type": "stream",
     "text": [
      "[ 292 2148  353    2  673    3 2626  631    3   35  231    4   98    9\n",
      "  790  204    3   25 3415  292  353    2  673    3 5077  631 1048    3\n",
      "    1  865  119    2  375  735    3  579  231    7  134    8 1003 1526\n",
      "  151    3    8  438 5078 1041 5079    8  785    0    0    0    0    0\n",
      "    0    0    0    0    0    0    0    0    0    0    0    0    0    0\n",
      "    0    0    0    0    0    0    0    0    0    0    0    0    0    0\n",
      "    0    0    0    0    0    0    0    0    0    0    0    0    0    0\n",
      "    0    0]\n"
     ]
    }
   ],
   "source": [
    "print(X_train[100])"
   ]
  },
  {
   "cell_type": "code",
   "execution_count": 10,
   "metadata": {},
   "outputs": [],
   "source": [
    "from sklearn.preprocessing import LabelEncoder\n",
    "le = LabelEncoder()\n",
    "y_train = le.fit_transform(y_train.values)\n",
    "y_test = le.transform(y_test.values)\n",
    "y_val = le.transform(y_val.values)"
   ]
  },
  {
   "cell_type": "code",
   "execution_count": 11,
   "metadata": {},
   "outputs": [],
   "source": [
    "embedding_dim = 50"
   ]
  },
  {
   "cell_type": "code",
   "execution_count": 12,
   "metadata": {},
   "outputs": [],
   "source": [
    "model_basic = tf.keras.models.Sequential([\n",
    "    tf.keras.layers.Embedding(vocab_size, embedding_dim, input_length=100),\n",
    "    tf.keras.layers.Conv1D(filters=32, kernel_size=5, activation='relu'),  \n",
    "    tf.keras.layers.GlobalMaxPooling1D(),\n",
    "    tf.keras.layers.Dense(64, activation='relu'),    \n",
    "    tf.keras.layers.Dropout(0.5),    \n",
    "    tf.keras.layers.Dense(3, activation='softmax')\n",
    "    ])"
   ]
  },
  {
   "cell_type": "code",
   "execution_count": 13,
   "metadata": {},
   "outputs": [
    {
     "name": "stdout",
     "output_type": "stream",
     "text": [
      "Model: \"sequential\"\n",
      "_________________________________________________________________\n",
      " Layer (type)                Output Shape              Param #   \n",
      "=================================================================\n",
      " embedding (Embedding)       (None, 100, 50)           429000    \n",
      "                                                                 \n",
      " conv1d (Conv1D)             (None, 96, 32)            8032      \n",
      "                                                                 \n",
      " global_max_pooling1d (Globa  (None, 32)               0         \n",
      " lMaxPooling1D)                                                  \n",
      "                                                                 \n",
      " dense (Dense)               (None, 64)                2112      \n",
      "                                                                 \n",
      " dropout (Dropout)           (None, 64)                0         \n",
      "                                                                 \n",
      " dense_1 (Dense)             (None, 3)                 195       \n",
      "                                                                 \n",
      "=================================================================\n",
      "Total params: 439,339\n",
      "Trainable params: 439,339\n",
      "Non-trainable params: 0\n",
      "_________________________________________________________________\n"
     ]
    }
   ],
   "source": [
    "model_basic.summary()"
   ]
  },
  {
   "cell_type": "code",
   "execution_count": 14,
   "metadata": {},
   "outputs": [],
   "source": [
    "model_basic.compile(loss = 'sparse_categorical_crossentropy', optimizer = tf.optimizers.Adam(), metrics = ['acc'])"
   ]
  },
  {
   "cell_type": "code",
   "execution_count": 15,
   "metadata": {},
   "outputs": [],
   "source": [
    "checkpoint_filepath = \"C:/Users/Thomas/Desktop/CSS3/model\""
   ]
  },
  {
   "cell_type": "code",
   "execution_count": 16,
   "metadata": {},
   "outputs": [],
   "source": [
    "model_checkpoint_callback = tf.keras.callbacks.ModelCheckpoint(\n",
    "    filepath= checkpoint_filepath,\n",
    "    save_weights_only=True,\n",
    "    monitor='val_acc',\n",
    "    mode='max',\n",
    "    save_best_only=True)"
   ]
  },
  {
   "cell_type": "code",
   "execution_count": 78,
   "metadata": {},
   "outputs": [
    {
     "name": "stdout",
     "output_type": "stream",
     "text": [
      "Epoch 1/50\n",
      "84/84 [==============================] - 2s 10ms/step - loss: 1.0859 - acc: 0.4240 - val_loss: 1.0803 - val_acc: 0.4190\n",
      "Epoch 2/50\n",
      "84/84 [==============================] - 1s 9ms/step - loss: 1.0367 - acc: 0.4419 - val_loss: 1.0721 - val_acc: 0.4358\n",
      "Epoch 3/50\n",
      "84/84 [==============================] - 1s 8ms/step - loss: 0.9022 - acc: 0.6228 - val_loss: 1.0400 - val_acc: 0.4469\n",
      "Epoch 4/50\n",
      "84/84 [==============================] - 1s 8ms/step - loss: 0.4890 - acc: 0.9305 - val_loss: 0.9683 - val_acc: 0.5587\n",
      "Epoch 5/50\n",
      "84/84 [==============================] - 1s 6ms/step - loss: 0.1542 - acc: 0.9940 - val_loss: 0.9702 - val_acc: 0.5307\n",
      "Epoch 6/50\n",
      "84/84 [==============================] - 1s 8ms/step - loss: 0.0534 - acc: 0.9988 - val_loss: 0.9909 - val_acc: 0.5642\n",
      "Epoch 7/50\n",
      "84/84 [==============================] - 1s 10ms/step - loss: 0.0336 - acc: 0.9976 - val_loss: 1.0091 - val_acc: 0.5754\n",
      "Epoch 8/50\n",
      "84/84 [==============================] - 0s 5ms/step - loss: 0.0186 - acc: 0.9976 - val_loss: 1.0697 - val_acc: 0.5140\n",
      "Epoch 9/50\n",
      "84/84 [==============================] - 0s 5ms/step - loss: 0.0156 - acc: 0.9988 - val_loss: 1.0735 - val_acc: 0.5642\n",
      "Epoch 10/50\n",
      "84/84 [==============================] - 0s 5ms/step - loss: 0.0118 - acc: 0.9988 - val_loss: 1.2471 - val_acc: 0.5698\n",
      "Epoch 11/50\n",
      "84/84 [==============================] - 0s 5ms/step - loss: 0.0213 - acc: 0.9988 - val_loss: 1.1237 - val_acc: 0.5251\n",
      "Epoch 12/50\n",
      "84/84 [==============================] - 0s 5ms/step - loss: 0.0094 - acc: 0.9988 - val_loss: 1.1414 - val_acc: 0.5531\n",
      "Epoch 13/50\n",
      "84/84 [==============================] - 1s 6ms/step - loss: 0.0106 - acc: 0.9988 - val_loss: 1.1743 - val_acc: 0.5196\n",
      "Epoch 14/50\n",
      "84/84 [==============================] - 0s 6ms/step - loss: 0.0265 - acc: 0.9988 - val_loss: 1.2897 - val_acc: 0.5642\n",
      "Epoch 15/50\n",
      "84/84 [==============================] - 0s 5ms/step - loss: 0.0258 - acc: 0.9976 - val_loss: 1.2056 - val_acc: 0.5698\n",
      "Epoch 16/50\n",
      "84/84 [==============================] - 0s 5ms/step - loss: 0.0069 - acc: 0.9988 - val_loss: 1.2226 - val_acc: 0.5754\n",
      "Epoch 17/50\n",
      "84/84 [==============================] - 0s 5ms/step - loss: 0.0084 - acc: 0.9988 - val_loss: 1.1887 - val_acc: 0.5587\n",
      "Epoch 18/50\n",
      "84/84 [==============================] - 1s 8ms/step - loss: 0.0321 - acc: 0.9976 - val_loss: 1.1692 - val_acc: 0.5922\n",
      "Epoch 19/50\n",
      "84/84 [==============================] - 0s 5ms/step - loss: 0.0217 - acc: 0.9988 - val_loss: 1.2059 - val_acc: 0.5587\n",
      "Epoch 20/50\n",
      "84/84 [==============================] - 0s 6ms/step - loss: 0.0077 - acc: 0.9988 - val_loss: 1.2597 - val_acc: 0.5754\n",
      "Epoch 21/50\n",
      "84/84 [==============================] - 0s 6ms/step - loss: 0.0161 - acc: 0.9988 - val_loss: 1.3018 - val_acc: 0.4916\n",
      "Epoch 22/50\n",
      "84/84 [==============================] - 0s 6ms/step - loss: 0.0118 - acc: 0.9976 - val_loss: 1.3840 - val_acc: 0.5028\n",
      "Epoch 23/50\n",
      "84/84 [==============================] - 0s 5ms/step - loss: 0.0195 - acc: 0.9976 - val_loss: 1.2369 - val_acc: 0.5754\n",
      "Epoch 24/50\n",
      "84/84 [==============================] - 0s 5ms/step - loss: 0.0067 - acc: 0.9988 - val_loss: 1.3033 - val_acc: 0.5419\n",
      "Epoch 25/50\n",
      "84/84 [==============================] - 0s 5ms/step - loss: 0.0069 - acc: 0.9988 - val_loss: 1.3296 - val_acc: 0.5587\n",
      "Epoch 26/50\n",
      "84/84 [==============================] - 0s 5ms/step - loss: 0.0064 - acc: 0.9976 - val_loss: 1.3869 - val_acc: 0.5307\n",
      "Epoch 27/50\n",
      "84/84 [==============================] - 0s 5ms/step - loss: 0.0104 - acc: 0.9988 - val_loss: 1.3476 - val_acc: 0.5698\n",
      "Epoch 28/50\n",
      "84/84 [==============================] - 0s 5ms/step - loss: 0.0043 - acc: 0.9988 - val_loss: 1.3211 - val_acc: 0.5810\n",
      "Epoch 29/50\n",
      "84/84 [==============================] - 0s 6ms/step - loss: 0.0081 - acc: 0.9988 - val_loss: 1.3427 - val_acc: 0.5363\n",
      "Epoch 30/50\n",
      "84/84 [==============================] - 0s 5ms/step - loss: 0.0089 - acc: 0.9988 - val_loss: 1.3467 - val_acc: 0.5642\n",
      "Epoch 31/50\n",
      "84/84 [==============================] - 0s 5ms/step - loss: 0.0037 - acc: 0.9988 - val_loss: 1.4026 - val_acc: 0.5251\n",
      "Epoch 32/50\n",
      "84/84 [==============================] - 1s 7ms/step - loss: 0.0029 - acc: 0.9988 - val_loss: 1.4923 - val_acc: 0.4916\n",
      "Epoch 33/50\n",
      "84/84 [==============================] - 1s 7ms/step - loss: 0.0073 - acc: 0.9988 - val_loss: 1.4859 - val_acc: 0.5475\n",
      "Epoch 34/50\n",
      "84/84 [==============================] - 1s 7ms/step - loss: 0.0039 - acc: 0.9976 - val_loss: 1.4469 - val_acc: 0.5698\n",
      "Epoch 35/50\n",
      "84/84 [==============================] - 1s 7ms/step - loss: 0.0067 - acc: 0.9988 - val_loss: 1.4450 - val_acc: 0.5251\n",
      "Epoch 36/50\n",
      "84/84 [==============================] - 1s 8ms/step - loss: 0.0038 - acc: 0.9988 - val_loss: 1.4649 - val_acc: 0.5475\n",
      "Epoch 37/50\n",
      "84/84 [==============================] - 1s 7ms/step - loss: 0.0047 - acc: 0.9988 - val_loss: 1.5470 - val_acc: 0.5084\n",
      "Epoch 38/50\n",
      "84/84 [==============================] - 1s 8ms/step - loss: 0.0081 - acc: 0.9988 - val_loss: 1.5362 - val_acc: 0.5251\n",
      "Epoch 39/50\n",
      "84/84 [==============================] - 1s 7ms/step - loss: 0.0081 - acc: 0.9976 - val_loss: 1.4402 - val_acc: 0.5531\n",
      "Epoch 40/50\n",
      "84/84 [==============================] - 1s 7ms/step - loss: 0.0162 - acc: 0.9964 - val_loss: 1.4206 - val_acc: 0.5419\n",
      "Epoch 41/50\n",
      "84/84 [==============================] - 1s 7ms/step - loss: 0.0061 - acc: 0.9976 - val_loss: 1.3240 - val_acc: 0.5642\n",
      "Epoch 42/50\n",
      "84/84 [==============================] - 1s 7ms/step - loss: 0.0020 - acc: 1.0000 - val_loss: 1.3825 - val_acc: 0.5419\n",
      "Epoch 43/50\n",
      "84/84 [==============================] - 1s 8ms/step - loss: 0.0099 - acc: 0.9976 - val_loss: 1.3494 - val_acc: 0.5587\n",
      "Epoch 44/50\n",
      "84/84 [==============================] - 1s 10ms/step - loss: 0.0056 - acc: 0.9988 - val_loss: 1.4172 - val_acc: 0.6089\n",
      "Epoch 45/50\n",
      "84/84 [==============================] - 1s 7ms/step - loss: 0.0061 - acc: 0.9976 - val_loss: 1.3953 - val_acc: 0.5754\n",
      "Epoch 46/50\n",
      "84/84 [==============================] - 1s 8ms/step - loss: 0.0113 - acc: 0.9976 - val_loss: 1.3798 - val_acc: 0.5642\n",
      "Epoch 47/50\n",
      "84/84 [==============================] - 1s 8ms/step - loss: 0.0032 - acc: 0.9988 - val_loss: 1.4772 - val_acc: 0.5419\n",
      "Epoch 48/50\n",
      "84/84 [==============================] - 1s 7ms/step - loss: 0.0019 - acc: 1.0000 - val_loss: 1.4677 - val_acc: 0.5475\n",
      "Epoch 49/50\n",
      "84/84 [==============================] - 1s 8ms/step - loss: 7.4968e-04 - acc: 1.0000 - val_loss: 1.4600 - val_acc: 0.5587\n",
      "Epoch 50/50\n",
      "84/84 [==============================] - 1s 8ms/step - loss: 0.0048 - acc: 0.9988 - val_loss: 1.4560 - val_acc: 0.5587\n"
     ]
    }
   ],
   "source": [
    "history = model_basic.fit(\n",
    "    x=X_train,\n",
    "    y=y_train,\n",
    "    epochs=50,\n",
    "    validation_data=(X_val,y_val),\n",
    "    shuffle=True,\n",
    "    batch_size = 10,\n",
    "    callbacks=[model_checkpoint_callback]\n",
    ")"
   ]
  },
  {
   "cell_type": "code",
   "execution_count": 17,
   "metadata": {},
   "outputs": [
    {
     "data": {
      "text/plain": [
       "<tensorflow.python.checkpoint.checkpoint.CheckpointLoadStatus at 0x1c1dc40d9d0>"
      ]
     },
     "execution_count": 17,
     "metadata": {},
     "output_type": "execute_result"
    }
   ],
   "source": [
    "model_basic.load_weights('C:/Users/Thomas/Desktop/CSS3/model')"
   ]
  },
  {
   "cell_type": "code",
   "execution_count": 80,
   "metadata": {},
   "outputs": [
    {
     "data": {
      "text/plain": [
       "<matplotlib.legend.Legend at 0x2357719f460>"
      ]
     },
     "execution_count": 80,
     "metadata": {},
     "output_type": "execute_result"
    },
    {
     "data": {
      "image/png": "[encoded data removed]",
      "text/plain": [
       "<Figure size 640x480 with 1 Axes>"
      ]
     },
     "metadata": {},
     "output_type": "display_data"
    }
   ],
   "source": [
    "loss = history.history['loss']\n",
    "val_loss = history.history['val_loss']\n",
    "\n",
    "epochs = range(len(loss))\n",
    "\n",
    "plt.figure()\n",
    "\n",
    "plt.plot(epochs, loss, 'r', label='Training loss')\n",
    "plt.plot(epochs, val_loss, 'b', label='Validation loss')\n",
    "plt.title('Training and validation loss')\n",
    "plt.legend()"
   ]
  },
  {
   "cell_type": "code",
   "execution_count": 81,
   "metadata": {},
   "outputs": [
    {
     "data": {
      "text/plain": [
       "<matplotlib.legend.Legend at 0x2357822bbe0>"
      ]
     },
     "execution_count": 81,
     "metadata": {},
     "output_type": "execute_result"
    },
    {
     "data": {
      "image/png": "[encoded data removed]",
      "text/plain": [
       "<Figure size 640x480 with 1 Axes>"
      ]
     },
     "metadata": {},
     "output_type": "display_data"
    }
   ],
   "source": [
    "accu = history.history['acc']\n",
    "val_accu = history.history['val_acc']\n",
    "\n",
    "epochs = range(len(loss))\n",
    "\n",
    "plt.figure()\n",
    "\n",
    "plt.plot(epochs, accu, 'r', label='Training Acc')\n",
    "plt.plot(epochs, val_accu, 'b', label='Validation Acc')\n",
    "plt.title('Training and validation Acc')\n",
    "plt.legend()"
   ]
  },
  {
   "cell_type": "code",
   "execution_count": 18,
   "metadata": {},
   "outputs": [
    {
     "name": "stdout",
     "output_type": "stream",
     "text": [
      "27/27 [==============================] - 1s 5ms/step\n",
      "Train accuracy for the CNN model combined Title and Abstract: 0.9988023952095808\n"
     ]
    }
   ],
   "source": [
    "y_train_pred = tf.keras.backend.argmax(\n",
    "    model_basic.predict(X_train),\n",
    "    axis=-1\n",
    ")\n",
    "accuracy_test = accuracy_score(y_train, y_train_pred)\n",
    "print(\"Train accuracy for the CNN model combined Title and Abstract:\", accuracy_test)"
   ]
  },
  {
   "cell_type": "code",
   "execution_count": 19,
   "metadata": {},
   "outputs": [
    {
     "name": "stdout",
     "output_type": "stream",
     "text": [
      "6/6 [==============================] - 0s 23ms/step\n",
      "Validation accuracy for the CNN model combined Title and Abstract: 0.6089385474860335\n"
     ]
    }
   ],
   "source": [
    "y_val_pred = tf.keras.backend.argmax(\n",
    "    model_basic.predict(X_val),\n",
    "    axis=-1\n",
    ")\n",
    "accuracy_test = accuracy_score(y_val, y_val_pred)\n",
    "print(\"Validation accuracy for the CNN model combined Title and Abstract:\", accuracy_test)"
   ]
  },
  {
   "cell_type": "code",
   "execution_count": 20,
   "metadata": {},
   "outputs": [
    {
     "name": "stdout",
     "output_type": "stream",
     "text": [
      "6/6 [==============================] - 0s 2ms/step\n",
      "Test accuracy for the CNN model combined Title and Abstract: 0.5418994413407822\n"
     ]
    }
   ],
   "source": [
    "y_test_pred = tf.keras.backend.argmax(\n",
    "    model_basic.predict(X_test),\n",
    "    axis=-1\n",
    ")\n",
    "accuracy_test = accuracy_score(y_test, y_test_pred)\n",
    "print(\"Test accuracy for the CNN model combined Title and Abstract:\", accuracy_test)"
   ]
  },
  {
   "cell_type": "code",
   "execution_count": 83,
   "metadata": {},
   "outputs": [
    {
     "data": {
      "image/png": "[encoded data removed]",
      "text/plain": [
       "<Figure size 1000x700 with 1 Axes>"
      ]
     },
     "metadata": {},
     "output_type": "display_data"
    }
   ],
   "source": [
    "# Compute confusion matrix\n",
    "conf_mat = confusion_matrix(y_test, y_test_pred)\n",
    "\n",
    "# Create confusion matrix plot using Seaborn\n",
    "plt.figure(figsize=(10, 7))\n",
    "sns.heatmap(conf_mat, annot=True, fmt='d', cmap='Blues', cbar=False, xticklabels=['Label 1', 'Label 2', 'Label 3'], yticklabels=['Label 1', 'Label 2', 'Label 3'])\n",
    "plt.xlabel('Predicted Label')\n",
    "plt.ylabel('True Label')\n",
    "plt.title('Confusion Matrix')\n",
    "plt.show()"
   ]
  }
 ],
 "metadata": {
  "kernelspec": {
   "display_name": "tf",
   "language": "python",
   "name": "python3"
  },
  "language_info": {
   "codemirror_mode": {
    "name": "ipython",
    "version": 3
   },
   "file_extension": ".py",
   "mimetype": "text/x-python",
   "name": "python",
   "nbconvert_exporter": "python",
   "pygments_lexer": "ipython3",
   "version": "3.9.16"
  },
  "orig_nbformat": 4
 },
 "nbformat": 4,
 "nbformat_minor": 2
}
