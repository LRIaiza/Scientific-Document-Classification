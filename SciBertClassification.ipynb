{
 "cells": [
  {
   "cell_type": "code",
   "execution_count": 1,
   "metadata": {},
   "outputs": [
    {
     "name": "stderr",
     "output_type": "stream",
     "text": [
      "Some weights of the model checkpoint at allenai/scibert_scivocab_uncased were not used when initializing BertForSequenceClassification: ['cls.seq_relationship.weight', 'cls.predictions.transform.dense.bias', 'cls.predictions.bias', 'cls.predictions.transform.dense.weight', 'cls.predictions.decoder.weight', 'cls.predictions.decoder.bias', 'cls.predictions.transform.LayerNorm.weight', 'cls.seq_relationship.bias', 'cls.predictions.transform.LayerNorm.bias']\n",
      "- This IS expected if you are initializing BertForSequenceClassification from the checkpoint of a model trained on another task or with another architecture (e.g. initializing a BertForSequenceClassification model from a BertForPreTraining model).\n",
      "- This IS NOT expected if you are initializing BertForSequenceClassification from the checkpoint of a model that you expect to be exactly identical (initializing a BertForSequenceClassification model from a BertForSequenceClassification model).\n",
      "Some weights of BertForSequenceClassification were not initialized from the model checkpoint at allenai/scibert_scivocab_uncased and are newly initialized: ['classifier.bias', 'classifier.weight']\n",
      "You should probably TRAIN this model on a down-stream task to be able to use it for predictions and inference.\n"
     ]
    }
   ],
   "source": [
    "from transformers import AutoModelForSequenceClassification, AutoTokenizer\n",
    "from torch.utils.data import TensorDataset, DataLoader\n",
    "import torch\n",
    "import pandas as pd\n",
    "from sklearn.model_selection import train_test_split\n",
    "import pandas as pd\n",
    "from sklearn.preprocessing import LabelEncoder\n",
    "from sklearn.metrics import accuracy_score, precision_score, recall_score, f1_score\n",
    "from transformers import Trainer, TrainingArguments\n",
    "import numpy as np \n",
    "from torch.utils.data import Dataset\n",
    "from sklearn.metrics import confusion_matrix\n",
    "import seaborn as sns\n",
    "import matplotlib.pyplot as plt\n",
    "\n",
    "DF = pd.read_excel(\"Data.xlsx\")\n",
    "le = LabelEncoder()\n",
    "DF['Orientation'] = le.fit_transform(DF['Orientation'])\n",
    "num_labels = len(DF['Orientation'].unique())\n",
    "\n",
    "model_name = \"allenai/scibert_scivocab_uncased\"\n",
    "model = AutoModelForSequenceClassification.from_pretrained(\"allenai/scibert_scivocab_uncased\", num_labels=num_labels)\n",
    "tokenizer = AutoTokenizer.from_pretrained(model_name)\n"
   ]
  },
  {
   "cell_type": "code",
   "execution_count": 2,
   "metadata": {},
   "outputs": [
    {
     "data": {
      "text/plain": [
       "1    502\n",
       "0    366\n",
       "2    325\n",
       "Name: Orientation, dtype: int64"
      ]
     },
     "execution_count": 2,
     "metadata": {},
     "output_type": "execute_result"
    }
   ],
   "source": [
    "DF['Orientation'].value_counts()"
   ]
  },
  {
   "cell_type": "code",
   "execution_count": 3,
   "metadata": {},
   "outputs": [],
   "source": [
    "from torch.utils.data import TensorDataset, DataLoader\n",
    "DF['text'] = DF[['TI', 'AB']].astype(str).agg(' '.join, axis=1)"
   ]
  },
  {
   "cell_type": "code",
   "execution_count": 4,
   "metadata": {},
   "outputs": [
    {
     "name": "stdout",
     "output_type": "stream",
     "text": [
      "Index(['ID', 'Orientation', 'Impact', 'Gender', 'Area of  research - person',\n",
      "       'Area of research - publication', 'UT', 'DOI', 'SOURCE YEAR',\n",
      "       'Doc type', 'PersonID', 'Born', 'Position', 'TI', 'AB', 'text'],\n",
      "      dtype='object')\n"
     ]
    }
   ],
   "source": [
    "print(DF.columns)"
   ]
  },
  {
   "cell_type": "code",
   "execution_count": 17,
   "metadata": {},
   "outputs": [],
   "source": [
    "train_df, test_df = train_test_split(DF, test_size=0.15, random_state=42)\n",
    "train_df, val_df = train_test_split(train_df, test_size=0.1765, random_state=42) # 70, 15, 15 train test split\n"
   ]
  },
  {
   "cell_type": "code",
   "execution_count": 18,
   "metadata": {},
   "outputs": [],
   "source": [
    "import torch\n",
    "\n",
    "device = torch.device(\"cuda\" if torch.cuda.is_available() else \"cpu\")\n",
    "model.to(device)\n",
    "\n",
    "def encode_data(tokenizer, df, text_column, label_column, max_length):\n",
    "    encoded_data = tokenizer.batch_encode_plus(\n",
    "        df[text_column].tolist(), # This line is used for the text column\n",
    "        padding=\"max_length\",\n",
    "        truncation=True,\n",
    "        max_length=max_length,\n",
    "        return_tensors=\"pt\"\n",
    "    )\n",
    "    labels = torch.tensor(df[label_column].values) # This line assigns the target variable 'Orientation'\n",
    "    return encoded_data, labels\n",
    "\n",
    "max_length = 512\n",
    "\n",
    "# Apply encoding function to training, validation, and test data to go into data loader\n",
    "train_encoded_data, train_labels = encode_data(tokenizer, train_df, \"text\", \"Orientation\", max_length)\n",
    "val_encoded_data, val_labels = encode_data(tokenizer, val_df, \"text\", \"Orientation\", max_length)\n",
    "test_encoded_data, test_labels = encode_data(tokenizer, test_df, \"text\", \"Orientation\", max_length)\n"
   ]
  },
  {
   "cell_type": "code",
   "execution_count": 19,
   "metadata": {},
   "outputs": [],
   "source": [
    "# Create the respective dataloaders for SciBert models\n",
    "def create_dataloader(encoded_data, labels, batch_size):\n",
    "    dataset = TensorDataset(\n",
    "        encoded_data[\"input_ids\"],\n",
    "        encoded_data[\"attention_mask\"],\n",
    "        labels\n",
    "    )\n",
    "    return DataLoader(dataset, batch_size=batch_size)\n",
    "\n",
    "batch_size = 16\n",
    "\n",
    "\n",
    "train_dataloader = create_dataloader(train_encoded_data, train_labels, batch_size)\n",
    "val_dataloader = create_dataloader(val_encoded_data, val_labels, batch_size)\n",
    "test_dataloader = create_dataloader(test_encoded_data, test_labels, batch_size)\n"
   ]
  },
  {
   "cell_type": "code",
   "execution_count": 20,
   "metadata": {},
   "outputs": [
    {
     "name": "stderr",
     "output_type": "stream",
     "text": [
      "PyTorch: setting up devices\n",
      "The default value for the training argument `--report_to` will change in v5 (from all installed integrations to none). In v5, you will need to use `--report_to all` to get the same behavior as now. You should start updating your code and make this info disappear :-).\n"
     ]
    }
   ],
   "source": [
    "from transformers import Trainer, TrainingArguments\n",
    "import numpy as np \n",
    "from torch.utils.data import Dataset\n",
    "\n",
    "\n",
    "# Define training arguments\n",
    "training_args = TrainingArguments(\n",
    "    output_dir=\"./results\",\n",
    "    num_train_epochs=7, \n",
    "    per_device_train_batch_size=batch_size, \n",
    "    per_device_eval_batch_size=batch_size, \n",
    "    warmup_steps=1000, \n",
    "    weight_decay=0.05, \n",
    "\n",
    "    logging_steps=10,\n",
    "    save_steps=40,                     \n",
    "    load_best_model_at_end=True,        \n",
    "    evaluation_strategy='steps',         \n",
    "    eval_steps=40,                      \n",
    "    metric_for_best_model='eval_f1',     \n",
    "    greater_is_better=True,              \n",
    ")\n",
    "\n",
    "def compute_accuracy(predictions, labels):\n",
    "    assert len(predictions) == len(labels)\n",
    "    correct_count = sum(p == l for p, l in zip(predictions, labels))\n",
    "    return correct_count / len(predictions)\n",
    "\n",
    "def compute_metrics(eval_pred):\n",
    "    logits, labels = eval_pred\n",
    "    predictions = np.argmax(logits, axis=-1)\n",
    "\n",
    "    accuracy = accuracy_score(labels, predictions)\n",
    "    precision = precision_score(labels, predictions, average='weighted')\n",
    "    recall = recall_score(labels, predictions, average='weighted')\n",
    "    f1 = f1_score(labels, predictions, average='weighted')\n",
    "\n",
    "    return {\n",
    "        'accuracy': accuracy,\n",
    "        'precision': precision,\n",
    "        'recall': recall,\n",
    "        'f1': f1,\n",
    "    }\n",
    "\n",
    "class CustomDataset(Dataset):\n",
    "    def __init__(self, tensor_dataset):\n",
    "\n",
    "        self.tensor_dataset = tensor_dataset\n",
    "\n",
    "    def __len__(self):\n",
    "        return len(self.tensor_dataset)\n",
    "\n",
    "    def __getitem__(self, idx):\n",
    "        item = self.tensor_dataset[idx]\n",
    "        return {\n",
    "            \"input_ids\": item[0],\n",
    "            \"attention_mask\": item[1],\n",
    "            \"labels\": item[2],\n",
    "        }    \n",
    "\n",
    "train_dataset = CustomDataset(train_dataloader.dataset)\n",
    "val_dataset = CustomDataset(val_dataloader.dataset)\n",
    "test_dataset = CustomDataset(test_dataloader.dataset)\n",
    "\n",
    "\n",
    "# Create the trainer\n",
    "trainer = Trainer(\n",
    "    model=model,\n",
    "    args=training_args,\n",
    "    train_dataset=train_dataset,\n",
    "    eval_dataset=val_dataset,\n",
    "    compute_metrics=compute_metrics,\n",
    ")\n",
    "\n",
    "\n"
   ]
  },
  {
   "cell_type": "code",
   "execution_count": 21,
   "metadata": {},
   "outputs": [
    {
     "name": "stderr",
     "output_type": "stream",
     "text": [
      "/Users/mitchellkijurina/miniconda3/envs/tensorflow/lib/python3.9/site-packages/transformers/optimization.py:306: FutureWarning: This implementation of AdamW is deprecated and will be removed in a future version. Use the PyTorch implementation torch.optim.AdamW instead, or set `no_deprecation_warning=True` to disable this warning\n",
      "  warnings.warn(\n",
      "***** Running training *****\n",
      "  Num examples = 835\n",
      "  Num Epochs = 7\n",
      "  Instantaneous batch size per device = 16\n",
      "  Total train batch size (w. parallel, distributed & accumulation) = 16\n",
      "  Gradient Accumulation steps = 1\n",
      "  Total optimization steps = 371\n",
      "  Number of trainable parameters = 109920771\n",
      "Automatic Weights & Biases logging enabled, to disable set os.environ[\"WANDB_DISABLED\"] = \"true\"\n"
     ]
    },
    {
     "data": {
      "application/vnd.jupyter.widget-view+json": {
       "model_id": "ad762b8a064043c28c9bdae0d6ea8f53",
       "version_major": 2,
       "version_minor": 0
      },
      "text/plain": [
       "  0%|          | 0/371 [00:00<?, ?it/s]"
      ]
     },
     "metadata": {},
     "output_type": "display_data"
    },
    {
     "name": "stdout",
     "output_type": "stream",
     "text": [
      "{'loss': 1.1221, 'learning_rate': 5.000000000000001e-07, 'epoch': 0.19}\n",
      "{'loss': 1.1128, 'learning_rate': 1.0000000000000002e-06, 'epoch': 0.38}\n",
      "{'loss': 1.1125, 'learning_rate': 1.5e-06, 'epoch': 0.57}\n"
     ]
    },
    {
     "name": "stderr",
     "output_type": "stream",
     "text": [
      "***** Running Evaluation *****\n",
      "  Num examples = 179\n",
      "  Batch size = 16\n"
     ]
    },
    {
     "name": "stdout",
     "output_type": "stream",
     "text": [
      "{'loss': 1.1, 'learning_rate': 2.0000000000000003e-06, 'epoch': 0.75}\n"
     ]
    },
    {
     "data": {
      "application/vnd.jupyter.widget-view+json": {
       "model_id": "998a9e10000248e09e0958dafd89d263",
       "version_major": 2,
       "version_minor": 0
      },
      "text/plain": [
       "  0%|          | 0/12 [00:00<?, ?it/s]"
      ]
     },
     "metadata": {},
     "output_type": "display_data"
    },
    {
     "name": "stderr",
     "output_type": "stream",
     "text": [
      "Saving model checkpoint to ./results/checkpoint-40\n",
      "Configuration saved in ./results/checkpoint-40/config.json\n"
     ]
    },
    {
     "name": "stdout",
     "output_type": "stream",
     "text": [
      "{'eval_loss': 1.0936882495880127, 'eval_accuracy': 0.4022346368715084, 'eval_precision': 0.28185954617664294, 'eval_recall': 0.4022346368715084, 'eval_f1': 0.3174971138841029, 'eval_runtime': 28.2868, 'eval_samples_per_second': 6.328, 'eval_steps_per_second': 0.424, 'epoch': 0.75}\n"
     ]
    },
    {
     "name": "stderr",
     "output_type": "stream",
     "text": [
      "Model weights saved in ./results/checkpoint-40/pytorch_model.bin\n"
     ]
    },
    {
     "name": "stdout",
     "output_type": "stream",
     "text": [
      "{'loss': 1.0754, 'learning_rate': 2.5e-06, 'epoch': 0.94}\n",
      "{'loss': 1.0596, 'learning_rate': 3e-06, 'epoch': 1.13}\n",
      "{'loss': 1.0776, 'learning_rate': 3.5000000000000004e-06, 'epoch': 1.32}\n"
     ]
    },
    {
     "name": "stderr",
     "output_type": "stream",
     "text": [
      "***** Running Evaluation *****\n",
      "  Num examples = 179\n",
      "  Batch size = 16\n"
     ]
    },
    {
     "name": "stdout",
     "output_type": "stream",
     "text": [
      "{'loss': 1.0556, 'learning_rate': 4.000000000000001e-06, 'epoch': 1.51}\n"
     ]
    },
    {
     "data": {
      "application/vnd.jupyter.widget-view+json": {
       "model_id": "37f351031fbd437f998431a5e6660f03",
       "version_major": 2,
       "version_minor": 0
      },
      "text/plain": [
       "  0%|          | 0/12 [00:00<?, ?it/s]"
      ]
     },
     "metadata": {},
     "output_type": "display_data"
    },
    {
     "name": "stderr",
     "output_type": "stream",
     "text": [
      "Saving model checkpoint to ./results/checkpoint-80\n",
      "Configuration saved in ./results/checkpoint-80/config.json\n"
     ]
    },
    {
     "name": "stdout",
     "output_type": "stream",
     "text": [
      "{'eval_loss': 1.0475307703018188, 'eval_accuracy': 0.4748603351955307, 'eval_precision': 0.4348685106962802, 'eval_recall': 0.4748603351955307, 'eval_f1': 0.3577849980131367, 'eval_runtime': 28.2234, 'eval_samples_per_second': 6.342, 'eval_steps_per_second': 0.425, 'epoch': 1.51}\n"
     ]
    },
    {
     "name": "stderr",
     "output_type": "stream",
     "text": [
      "Model weights saved in ./results/checkpoint-80/pytorch_model.bin\n"
     ]
    },
    {
     "name": "stdout",
     "output_type": "stream",
     "text": [
      "{'loss': 1.0417, 'learning_rate': 4.5e-06, 'epoch': 1.7}\n",
      "{'loss': 1.0429, 'learning_rate': 5e-06, 'epoch': 1.89}\n",
      "{'loss': 1.0428, 'learning_rate': 5.500000000000001e-06, 'epoch': 2.08}\n"
     ]
    },
    {
     "name": "stderr",
     "output_type": "stream",
     "text": [
      "***** Running Evaluation *****\n",
      "  Num examples = 179\n",
      "  Batch size = 16\n"
     ]
    },
    {
     "name": "stdout",
     "output_type": "stream",
     "text": [
      "{'loss': 0.986, 'learning_rate': 6e-06, 'epoch': 2.26}\n"
     ]
    },
    {
     "data": {
      "application/vnd.jupyter.widget-view+json": {
       "model_id": "c7276179089442329622bb4bb85021bc",
       "version_major": 2,
       "version_minor": 0
      },
      "text/plain": [
       "  0%|          | 0/12 [00:00<?, ?it/s]"
      ]
     },
     "metadata": {},
     "output_type": "display_data"
    },
    {
     "name": "stderr",
     "output_type": "stream",
     "text": [
      "/Users/mitchellkijurina/miniconda3/envs/tensorflow/lib/python3.9/site-packages/sklearn/metrics/_classification.py:1344: UndefinedMetricWarning: Precision is ill-defined and being set to 0.0 in labels with no predicted samples. Use `zero_division` parameter to control this behavior.\n",
      "  _warn_prf(average, modifier, msg_start, len(result))\n",
      "Saving model checkpoint to ./results/checkpoint-120\n",
      "Configuration saved in ./results/checkpoint-120/config.json\n"
     ]
    },
    {
     "name": "stdout",
     "output_type": "stream",
     "text": [
      "{'eval_loss': 0.9843561053276062, 'eval_accuracy': 0.5810055865921788, 'eval_precision': 0.44924208774640756, 'eval_recall': 0.5810055865921788, 'eval_f1': 0.48075729360645564, 'eval_runtime': 28.9914, 'eval_samples_per_second': 6.174, 'eval_steps_per_second': 0.414, 'epoch': 2.26}\n"
     ]
    },
    {
     "name": "stderr",
     "output_type": "stream",
     "text": [
      "Model weights saved in ./results/checkpoint-120/pytorch_model.bin\n"
     ]
    },
    {
     "name": "stdout",
     "output_type": "stream",
     "text": [
      "{'loss': 0.9431, 'learning_rate': 6.5000000000000004e-06, 'epoch': 2.45}\n",
      "{'loss': 0.9851, 'learning_rate': 7.000000000000001e-06, 'epoch': 2.64}\n",
      "{'loss': 0.9793, 'learning_rate': 7.5e-06, 'epoch': 2.83}\n"
     ]
    },
    {
     "name": "stderr",
     "output_type": "stream",
     "text": [
      "***** Running Evaluation *****\n",
      "  Num examples = 179\n",
      "  Batch size = 16\n"
     ]
    },
    {
     "name": "stdout",
     "output_type": "stream",
     "text": [
      "{'loss': 0.8982, 'learning_rate': 8.000000000000001e-06, 'epoch': 3.02}\n"
     ]
    },
    {
     "data": {
      "application/vnd.jupyter.widget-view+json": {
       "model_id": "410a2453a4ab4845bdf656d3fe79f84b",
       "version_major": 2,
       "version_minor": 0
      },
      "text/plain": [
       "  0%|          | 0/12 [00:00<?, ?it/s]"
      ]
     },
     "metadata": {},
     "output_type": "display_data"
    },
    {
     "name": "stderr",
     "output_type": "stream",
     "text": [
      "Saving model checkpoint to ./results/checkpoint-160\n",
      "Configuration saved in ./results/checkpoint-160/config.json\n"
     ]
    },
    {
     "name": "stdout",
     "output_type": "stream",
     "text": [
      "{'eval_loss': 0.9038885235786438, 'eval_accuracy': 0.5921787709497207, 'eval_precision': 0.5470246216521987, 'eval_recall': 0.5921787709497207, 'eval_f1': 0.554601028300966, 'eval_runtime': 30.3893, 'eval_samples_per_second': 5.89, 'eval_steps_per_second': 0.395, 'epoch': 3.02}\n"
     ]
    },
    {
     "name": "stderr",
     "output_type": "stream",
     "text": [
      "Model weights saved in ./results/checkpoint-160/pytorch_model.bin\n"
     ]
    },
    {
     "name": "stdout",
     "output_type": "stream",
     "text": [
      "{'loss': 0.899, 'learning_rate': 8.500000000000002e-06, 'epoch': 3.21}\n",
      "{'loss': 0.7702, 'learning_rate': 9e-06, 'epoch': 3.4}\n",
      "{'loss': 0.8256, 'learning_rate': 9.5e-06, 'epoch': 3.58}\n"
     ]
    },
    {
     "name": "stderr",
     "output_type": "stream",
     "text": [
      "***** Running Evaluation *****\n",
      "  Num examples = 179\n",
      "  Batch size = 16\n"
     ]
    },
    {
     "name": "stdout",
     "output_type": "stream",
     "text": [
      "{'loss': 0.7492, 'learning_rate': 1e-05, 'epoch': 3.77}\n"
     ]
    },
    {
     "data": {
      "application/vnd.jupyter.widget-view+json": {
       "model_id": "6a20f93f00ce4283b033aa7cd523949d",
       "version_major": 2,
       "version_minor": 0
      },
      "text/plain": [
       "  0%|          | 0/12 [00:00<?, ?it/s]"
      ]
     },
     "metadata": {},
     "output_type": "display_data"
    },
    {
     "name": "stderr",
     "output_type": "stream",
     "text": [
      "Saving model checkpoint to ./results/checkpoint-200\n",
      "Configuration saved in ./results/checkpoint-200/config.json\n"
     ]
    },
    {
     "name": "stdout",
     "output_type": "stream",
     "text": [
      "{'eval_loss': 0.8295141458511353, 'eval_accuracy': 0.6312849162011173, 'eval_precision': 0.6065354209892424, 'eval_recall': 0.6312849162011173, 'eval_f1': 0.5886304743707164, 'eval_runtime': 29.2954, 'eval_samples_per_second': 6.11, 'eval_steps_per_second': 0.41, 'epoch': 3.77}\n"
     ]
    },
    {
     "name": "stderr",
     "output_type": "stream",
     "text": [
      "Model weights saved in ./results/checkpoint-200/pytorch_model.bin\n"
     ]
    },
    {
     "name": "stdout",
     "output_type": "stream",
     "text": [
      "{'loss': 0.7794, 'learning_rate': 1.05e-05, 'epoch': 3.96}\n",
      "{'loss': 0.7028, 'learning_rate': 1.1000000000000001e-05, 'epoch': 4.15}\n",
      "{'loss': 0.6342, 'learning_rate': 1.1500000000000002e-05, 'epoch': 4.34}\n"
     ]
    },
    {
     "name": "stderr",
     "output_type": "stream",
     "text": [
      "***** Running Evaluation *****\n",
      "  Num examples = 179\n",
      "  Batch size = 16\n"
     ]
    },
    {
     "name": "stdout",
     "output_type": "stream",
     "text": [
      "{'loss': 0.5861, 'learning_rate': 1.2e-05, 'epoch': 4.53}\n"
     ]
    },
    {
     "data": {
      "application/vnd.jupyter.widget-view+json": {
       "model_id": "d0f8e9a29f8a4fd6add83c7429bcbf03",
       "version_major": 2,
       "version_minor": 0
      },
      "text/plain": [
       "  0%|          | 0/12 [00:00<?, ?it/s]"
      ]
     },
     "metadata": {},
     "output_type": "display_data"
    },
    {
     "name": "stderr",
     "output_type": "stream",
     "text": [
      "Saving model checkpoint to ./results/checkpoint-240\n",
      "Configuration saved in ./results/checkpoint-240/config.json\n"
     ]
    },
    {
     "name": "stdout",
     "output_type": "stream",
     "text": [
      "{'eval_loss': 0.8337249159812927, 'eval_accuracy': 0.6033519553072626, 'eval_precision': 0.5572525174848021, 'eval_recall': 0.6033519553072626, 'eval_f1': 0.5536411060484717, 'eval_runtime': 28.6043, 'eval_samples_per_second': 6.258, 'eval_steps_per_second': 0.42, 'epoch': 4.53}\n"
     ]
    },
    {
     "name": "stderr",
     "output_type": "stream",
     "text": [
      "Model weights saved in ./results/checkpoint-240/pytorch_model.bin\n"
     ]
    },
    {
     "name": "stdout",
     "output_type": "stream",
     "text": [
      "{'loss': 0.6527, 'learning_rate': 1.25e-05, 'epoch': 4.72}\n",
      "{'loss': 0.6456, 'learning_rate': 1.3000000000000001e-05, 'epoch': 4.91}\n",
      "{'loss': 0.5091, 'learning_rate': 1.3500000000000001e-05, 'epoch': 5.09}\n"
     ]
    },
    {
     "name": "stderr",
     "output_type": "stream",
     "text": [
      "***** Running Evaluation *****\n",
      "  Num examples = 179\n",
      "  Batch size = 16\n"
     ]
    },
    {
     "name": "stdout",
     "output_type": "stream",
     "text": [
      "{'loss': 0.4814, 'learning_rate': 1.4000000000000001e-05, 'epoch': 5.28}\n"
     ]
    },
    {
     "data": {
      "application/vnd.jupyter.widget-view+json": {
       "model_id": "eb3b5c03006e481bb26927cca2dd69dd",
       "version_major": 2,
       "version_minor": 0
      },
      "text/plain": [
       "  0%|          | 0/12 [00:00<?, ?it/s]"
      ]
     },
     "metadata": {},
     "output_type": "display_data"
    },
    {
     "name": "stderr",
     "output_type": "stream",
     "text": [
      "Saving model checkpoint to ./results/checkpoint-280\n",
      "Configuration saved in ./results/checkpoint-280/config.json\n"
     ]
    },
    {
     "name": "stdout",
     "output_type": "stream",
     "text": [
      "{'eval_loss': 0.8435365557670593, 'eval_accuracy': 0.6089385474860335, 'eval_precision': 0.5889326876889664, 'eval_recall': 0.6089385474860335, 'eval_f1': 0.5850882143550281, 'eval_runtime': 28.6977, 'eval_samples_per_second': 6.237, 'eval_steps_per_second': 0.418, 'epoch': 5.28}\n"
     ]
    },
    {
     "name": "stderr",
     "output_type": "stream",
     "text": [
      "Model weights saved in ./results/checkpoint-280/pytorch_model.bin\n"
     ]
    },
    {
     "name": "stdout",
     "output_type": "stream",
     "text": [
      "{'loss': 0.4499, 'learning_rate': 1.45e-05, 'epoch': 5.47}\n",
      "{'loss': 0.4312, 'learning_rate': 1.5e-05, 'epoch': 5.66}\n",
      "{'loss': 0.4128, 'learning_rate': 1.55e-05, 'epoch': 5.85}\n"
     ]
    },
    {
     "name": "stderr",
     "output_type": "stream",
     "text": [
      "***** Running Evaluation *****\n",
      "  Num examples = 179\n",
      "  Batch size = 16\n"
     ]
    },
    {
     "name": "stdout",
     "output_type": "stream",
     "text": [
      "{'loss': 0.3351, 'learning_rate': 1.6000000000000003e-05, 'epoch': 6.04}\n"
     ]
    },
    {
     "data": {
      "application/vnd.jupyter.widget-view+json": {
       "model_id": "084ce19fcad245e785a0f4d1766c909c",
       "version_major": 2,
       "version_minor": 0
      },
      "text/plain": [
       "  0%|          | 0/12 [00:00<?, ?it/s]"
      ]
     },
     "metadata": {},
     "output_type": "display_data"
    },
    {
     "name": "stderr",
     "output_type": "stream",
     "text": [
      "Saving model checkpoint to ./results/checkpoint-320\n",
      "Configuration saved in ./results/checkpoint-320/config.json\n"
     ]
    },
    {
     "name": "stdout",
     "output_type": "stream",
     "text": [
      "{'eval_loss': 0.8883777856826782, 'eval_accuracy': 0.6033519553072626, 'eval_precision': 0.602286955750643, 'eval_recall': 0.6033519553072626, 'eval_f1': 0.6008674771168249, 'eval_runtime': 28.8782, 'eval_samples_per_second': 6.198, 'eval_steps_per_second': 0.416, 'epoch': 6.04}\n"
     ]
    },
    {
     "name": "stderr",
     "output_type": "stream",
     "text": [
      "Model weights saved in ./results/checkpoint-320/pytorch_model.bin\n"
     ]
    },
    {
     "name": "stdout",
     "output_type": "stream",
     "text": [
      "{'loss': 0.2355, 'learning_rate': 1.65e-05, 'epoch': 6.23}\n",
      "{'loss': 0.2272, 'learning_rate': 1.7000000000000003e-05, 'epoch': 6.42}\n",
      "{'loss': 0.217, 'learning_rate': 1.75e-05, 'epoch': 6.6}\n"
     ]
    },
    {
     "name": "stderr",
     "output_type": "stream",
     "text": [
      "***** Running Evaluation *****\n",
      "  Num examples = 179\n",
      "  Batch size = 16\n"
     ]
    },
    {
     "name": "stdout",
     "output_type": "stream",
     "text": [
      "{'loss': 0.2411, 'learning_rate': 1.8e-05, 'epoch': 6.79}\n"
     ]
    },
    {
     "data": {
      "application/vnd.jupyter.widget-view+json": {
       "model_id": "7a3fb2b0fb1f48e29ad2920611ee1563",
       "version_major": 2,
       "version_minor": 0
      },
      "text/plain": [
       "  0%|          | 0/12 [00:00<?, ?it/s]"
      ]
     },
     "metadata": {},
     "output_type": "display_data"
    },
    {
     "name": "stderr",
     "output_type": "stream",
     "text": [
      "Saving model checkpoint to ./results/checkpoint-360\n",
      "Configuration saved in ./results/checkpoint-360/config.json\n"
     ]
    },
    {
     "name": "stdout",
     "output_type": "stream",
     "text": [
      "{'eval_loss': 1.2746237516403198, 'eval_accuracy': 0.5027932960893855, 'eval_precision': 0.5585082288992903, 'eval_recall': 0.5027932960893855, 'eval_f1': 0.5105746209098164, 'eval_runtime': 28.644, 'eval_samples_per_second': 6.249, 'eval_steps_per_second': 0.419, 'epoch': 6.79}\n"
     ]
    },
    {
     "name": "stderr",
     "output_type": "stream",
     "text": [
      "Model weights saved in ./results/checkpoint-360/pytorch_model.bin\n"
     ]
    },
    {
     "name": "stdout",
     "output_type": "stream",
     "text": [
      "{'loss': 0.2673, 'learning_rate': 1.85e-05, 'epoch': 6.98}\n"
     ]
    },
    {
     "name": "stderr",
     "output_type": "stream",
     "text": [
      "\n",
      "\n",
      "Training completed. Do not forget to share your model on huggingface.co/models =)\n",
      "\n",
      "\n",
      "Loading best model from ./results/checkpoint-320 (score: 0.6008674771168249).\n"
     ]
    },
    {
     "name": "stdout",
     "output_type": "stream",
     "text": [
      "{'train_runtime': 3992.6242, 'train_samples_per_second': 1.464, 'train_steps_per_second': 0.093, 'train_loss': 0.7476213936696476, 'epoch': 7.0}\n"
     ]
    },
    {
     "data": {
      "text/plain": [
       "TrainOutput(global_step=371, training_loss=0.7476213936696476, metrics={'train_runtime': 3992.6242, 'train_samples_per_second': 1.464, 'train_steps_per_second': 0.093, 'train_loss': 0.7476213936696476, 'epoch': 7.0})"
      ]
     },
     "execution_count": 21,
     "metadata": {},
     "output_type": "execute_result"
    }
   ],
   "source": [
    "# Train the model\n",
    "trainer.train()\n"
   ]
  },
  {
   "cell_type": "code",
   "execution_count": 22,
   "metadata": {
    "collapsed": false
   },
   "outputs": [
    {
     "name": "stderr",
     "output_type": "stream",
     "text": [
      "***** Running Evaluation *****\n",
      "  Num examples = 179\n",
      "  Batch size = 16\n"
     ]
    },
    {
     "data": {
      "application/vnd.jupyter.widget-view+json": {
       "model_id": "5b03f591b84645989759431db423794b",
       "version_major": 2,
       "version_minor": 0
      },
      "text/plain": [
       "  0%|          | 0/12 [00:00<?, ?it/s]"
      ]
     },
     "metadata": {},
     "output_type": "display_data"
    },
    {
     "name": "stdout",
     "output_type": "stream",
     "text": [
      "Validation set accuracy: 0.60\n"
     ]
    }
   ],
   "source": [
    "eval_results = trainer.evaluate(val_dataset)\n",
    "print(f\"Validation set accuracy: {eval_results['eval_accuracy']:.2f}\")\n"
   ]
  },
  {
   "cell_type": "code",
   "execution_count": 23,
   "metadata": {},
   "outputs": [
    {
     "name": "stderr",
     "output_type": "stream",
     "text": [
      "***** Running Evaluation *****\n",
      "  Num examples = 179\n",
      "  Batch size = 16\n"
     ]
    },
    {
     "data": {
      "application/vnd.jupyter.widget-view+json": {
       "model_id": "b929672d45274d6ab71803d1cd86ddd2",
       "version_major": 2,
       "version_minor": 0
      },
      "text/plain": [
       "  0%|          | 0/12 [00:00<?, ?it/s]"
      ]
     },
     "metadata": {},
     "output_type": "display_data"
    },
    {
     "name": "stdout",
     "output_type": "stream",
     "text": [
      "Test set accuracy: 0.66\n",
      "Test set precision: 0.68\n",
      "Test set recall: 0.66\n",
      "Test set F1-score: 0.66\n"
     ]
    }
   ],
   "source": [
    "eval_results = trainer.evaluate(test_dataset)\n",
    "print(f\"Test set accuracy: {eval_results['eval_accuracy']:.2f}\")\n",
    "print(f\"Test set precision: {eval_results['eval_precision']:.2f}\")\n",
    "print(f\"Test set recall: {eval_results['eval_recall']:.2f}\")\n",
    "print(f\"Test set F1-score: {eval_results['eval_f1']:.2f}\")\n",
    "\n"
   ]
  },
  {
   "cell_type": "code",
   "execution_count": 24,
   "metadata": {},
   "outputs": [
    {
     "name": "stderr",
     "output_type": "stream",
     "text": [
      "***** Running Prediction *****\n",
      "  Num examples = 179\n",
      "  Batch size = 16\n"
     ]
    },
    {
     "data": {
      "application/vnd.jupyter.widget-view+json": {
       "model_id": "11c61eb2cc54485886a437cdd5448bde",
       "version_major": 2,
       "version_minor": 0
      },
      "text/plain": [
       "  0%|          | 0/12 [00:00<?, ?it/s]"
      ]
     },
     "metadata": {},
     "output_type": "display_data"
    },
    {
     "data": {
      "image/png": "[encoded data removed]",
      "text/plain": [
       "<Figure size 1000x700 with 1 Axes>"
      ]
     },
     "metadata": {},
     "output_type": "display_data"
    }
   ],
   "source": [
    "# Get predictions from the best model\n",
    "predictions, label_ids, _ = trainer.predict(test_dataset)\n",
    "predicted_labels = np.argmax(predictions, axis=1)\n",
    "\n",
    "# Compute confusion matrix\n",
    "conf_mat = confusion_matrix(label_ids, predicted_labels)\n",
    "\n",
    "# Create confusion matrix plot using Seaborn\n",
    "plt.figure(figsize=(10, 7))\n",
    "sns.heatmap(conf_mat, annot=True, fmt='d', cmap='Blues', cbar=False, xticklabels=['Label 1', 'Label 2', 'Label 3'], yticklabels=['Label 1', 'Label 2', 'Label 3'])\n",
    "plt.xlabel('Predicted Label')\n",
    "plt.ylabel('True Label')\n",
    "plt.title('Confusion Matrix')\n",
    "plt.show()"
   ]
  },
  {
   "cell_type": "code",
   "execution_count": 25,
   "metadata": {},
   "outputs": [
    {
     "name": "stderr",
     "output_type": "stream",
     "text": [
      "***** Running Evaluation *****\n",
      "  Num examples = 835\n",
      "  Batch size = 16\n"
     ]
    },
    {
     "data": {
      "application/vnd.jupyter.widget-view+json": {
       "model_id": "fa9c07fecdd54b90bbc6e03c28ceb3f6",
       "version_major": 2,
       "version_minor": 0
      },
      "text/plain": [
       "  0%|          | 0/53 [00:00<?, ?it/s]"
      ]
     },
     "metadata": {},
     "output_type": "display_data"
    },
    {
     "name": "stdout",
     "output_type": "stream",
     "text": [
      "train set accuracy: 0.97\n"
     ]
    }
   ],
   "source": [
    "# get the accuracy of the train data \n",
    "eval_results_train = trainer.evaluate(train_dataset)\n",
    "print(f\"train set accuracy: {eval_results_train['eval_accuracy']:.2f}\")"
   ]
  },
  {
   "cell_type": "code",
   "execution_count": null,
   "metadata": {},
   "outputs": [],
   "source": []
  }
 ],
 "metadata": {
  "kernelspec": {
   "display_name": "Python 3.9  (Tensorflow)",
   "language": "python",
   "name": "tensorflow"
  },
  "language_info": {
   "codemirror_mode": {
    "name": "ipython",
    "version": 3
   },
   "file_extension": ".py",
   "mimetype": "text/x-python",
   "name": "python",
   "nbconvert_exporter": "python",
   "pygments_lexer": "ipython3",
   "version": "3.9.13"
  },
  "orig_nbformat": 4
 },
 "nbformat": 4,
 "nbformat_minor": 2
}
